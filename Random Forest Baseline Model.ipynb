{
 "cells": [
  {
   "cell_type": "code",
   "execution_count": 13,
   "id": "b0e6bd22",
   "metadata": {},
   "outputs": [],
   "source": [
    "import os\n",
    "import glob\n",
    "import time\n",
    "from sklearn.svm import SVC\n",
    "from sklearn.ensemble import RandomForestClassifier\n",
    "from sklearn.model_selection import train_test_split\n",
    "from sklearn.metrics import accuracy_score\n",
    "from sklearn.preprocessing import StandardScaler\n",
    "import torch\n",
    "import torch.nn as nn\n",
    "import torch.nn.functional as F\n",
    "import torch.optim as optim\n",
    "import torchvision\n",
    "from torchvision import datasets, transforms\n",
    "import numpy as np\n",
    "from tqdm import tqdm"
   ]
  },
  {
   "cell_type": "code",
   "execution_count": 15,
   "id": "6bac8753",
   "metadata": {},
   "outputs": [
    {
     "name": "stdout",
     "output_type": "stream",
     "text": [
      "The dataset size is 2000\n"
     ]
    }
   ],
   "source": [
    "transform = transforms.Compose(\n",
    "        [transforms.Resize((100,100)),\n",
    "         transforms.Grayscale(),\n",
    "         transforms.ToTensor(),\n",
    "         transforms.Normalize((0.5), (0.5))])\n",
    "\n",
    "data = torchvision.datasets.ImageFolder('./Test Image Dataset', transform=transform)\n",
    "\n",
    "num_classes = len(next(os.walk('./Test Image Dataset'))[1])\n",
    "\n",
    "print(\"The dataset size is\", len(data))"
   ]
  },
  {
   "cell_type": "code",
   "execution_count": 16,
   "id": "a552b08f",
   "metadata": {},
   "outputs": [
    {
     "name": "stderr",
     "output_type": "stream",
     "text": [
      "100%|█████████████████████████████████████████████████████████████████████████████| 2000/2000 [00:19<00:00, 102.15it/s]\n"
     ]
    }
   ],
   "source": [
    "x = []\n",
    "y = []\n",
    "\n",
    "for i in tqdm(range(len(data))):\n",
    "    img, label = data[i]\n",
    "    x.append(img.numpy())\n",
    "    y.append(label)"
   ]
  },
  {
   "cell_type": "code",
   "execution_count": 17,
   "id": "1a9b79f5",
   "metadata": {},
   "outputs": [
    {
     "name": "stdout",
     "output_type": "stream",
     "text": [
      "The training set size is 1600  (~ 80.0 % of total dataset)\n",
      "The validation set size is 200  (~ 10.0 % of total dataset)\n",
      "The testing set size is 200  (~ 10.0 % of total dataset)\n"
     ]
    }
   ],
   "source": [
    "# Load and preprocess data\n",
    "# x and y are the images and labels for training\n",
    "x = np.asarray(x)\n",
    "x = x.reshape(x.shape[0], -1)\n",
    "scaler = StandardScaler()\n",
    "x = scaler.fit_transform(x)\n",
    "\n",
    "# Split data into training, validation and testing sets\n",
    "x_train, x_val, y_train, y_val = train_test_split(x, y, test_size=0.1, random_state=42)\n",
    "x_train, x_test, y_train, y_test = train_test_split(x_train, y_train, test_size=0.1111, random_state=42)\n",
    "\n",
    "print(\"The training set size is\", len(x_train), \" (~\", round(len(x_train)/len(data)*100, 0), \"% of total dataset)\")\n",
    "print(\"The validation set size is\", len(x_val), \" (~\", round(len(x_val)/len(data)*100, 0), \"% of total dataset)\")\n",
    "print(\"The testing set size is\", len(x_test), \" (~\", round(len(x_test)/len(data)*100, 0), \"% of total dataset)\")"
   ]
  },
  {
   "cell_type": "code",
   "execution_count": 42,
   "id": "9799e148",
   "metadata": {},
   "outputs": [
    {
     "data": {
      "text/plain": [
       "RandomForestClassifier(n_estimators=50, random_state=42)"
      ]
     },
     "execution_count": 42,
     "metadata": {},
     "output_type": "execute_result"
    }
   ],
   "source": [
    "rfc = RandomForestClassifier(n_estimators=50, random_state=42)\n",
    "rfc.fit(x_train, y_train)"
   ]
  },
  {
   "cell_type": "code",
   "execution_count": 43,
   "id": "2cbf47cf",
   "metadata": {},
   "outputs": [
    {
     "name": "stdout",
     "output_type": "stream",
     "text": [
      "Validation accuracy: 0.69\n"
     ]
    }
   ],
   "source": [
    "y_pred = rfc.predict(x_val)\n",
    "accuracy = accuracy_score(y_val, y_pred)\n",
    "print(f'Validation accuracy: {accuracy:.2f}')"
   ]
  },
  {
   "cell_type": "code",
   "execution_count": null,
   "id": "c82e828d",
   "metadata": {},
   "outputs": [],
   "source": []
  }
 ],
 "metadata": {
  "kernelspec": {
   "display_name": "Python 3 (ipykernel)",
   "language": "python",
   "name": "python3"
  },
  "language_info": {
   "codemirror_mode": {
    "name": "ipython",
    "version": 3
   },
   "file_extension": ".py",
   "mimetype": "text/x-python",
   "name": "python",
   "nbconvert_exporter": "python",
   "pygments_lexer": "ipython3",
   "version": "3.9.13"
  }
 },
 "nbformat": 4,
 "nbformat_minor": 5
}
