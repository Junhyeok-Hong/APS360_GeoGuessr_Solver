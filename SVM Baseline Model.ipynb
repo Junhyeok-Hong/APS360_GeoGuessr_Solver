{
 "cells": [
  {
   "cell_type": "code",
   "execution_count": 1,
   "id": "b0e6bd22",
   "metadata": {},
   "outputs": [],
   "source": [
    "import os\n",
    "import glob\n",
    "import time\n",
    "from sklearn.svm import SVC\n",
    "from sklearn.ensemble import RandomForestClassifier\n",
    "from sklearn.model_selection import train_test_split\n",
    "from sklearn.metrics import accuracy_score\n",
    "from sklearn.preprocessing import StandardScaler\n",
    "import torch\n",
    "import torch.nn as nn\n",
    "import torch.nn.functional as F\n",
    "import torch.optim as optim\n",
    "import torchvision\n",
    "from torchvision import datasets, transforms\n",
    "import numpy as np\n",
    "from tqdm import tqdm"
   ]
  },
  {
   "cell_type": "code",
   "execution_count": 2,
   "id": "a552b08f",
   "metadata": {},
   "outputs": [
    {
     "name": "stdout",
     "output_type": "stream",
     "text": [
      "The dataset size is 7000\n"
     ]
    }
   ],
   "source": [
    "transform = transforms.Compose(\n",
    "        [transforms.Resize((100,100)),\n",
    "         transforms.Grayscale(),\n",
    "         transforms.ToTensor(),\n",
    "         transforms.Normalize((0.5), (0.5))])\n",
    "\n",
    "data = torchvision.datasets.ImageFolder('./Reduced Dataset Backup', transform=transform)\n",
    "\n",
    "num_classes = len(next(os.walk('./Reduced Dataset Backup'))[1])\n",
    "\n",
    "print(\"The dataset size is\", len(data))"
   ]
  },
  {
   "cell_type": "code",
   "execution_count": 3,
   "id": "700e3801",
   "metadata": {},
   "outputs": [
    {
     "name": "stderr",
     "output_type": "stream",
     "text": [
      "100%|█████████████████████████████████████████████████████████████████████████████| 7000/7000 [01:09<00:00, 100.20it/s]\n"
     ]
    }
   ],
   "source": [
    "x = []\n",
    "y = []\n",
    "\n",
    "for i in tqdm(range(len(data))):\n",
    "    img, label = data[i]\n",
    "    x.append(img.numpy())\n",
    "    y.append(label)"
   ]
  },
  {
   "cell_type": "code",
   "execution_count": 81,
   "id": "bae75e21",
   "metadata": {},
   "outputs": [
    {
     "name": "stdout",
     "output_type": "stream",
     "text": [
      "The training set size is 5600  (~ 80.0 % of total dataset)\n",
      "The validation set size is 700  (~ 10.0 % of total dataset)\n",
      "The testing set size is 700  (~ 10.0 % of total dataset)\n"
     ]
    }
   ],
   "source": [
    "# Load and preprocess data\n",
    "# x and y are the images and labels for training\n",
    "x = np.asarray(x)\n",
    "x = x.reshape(x.shape[0], -1)\n",
    "scaler = StandardScaler()\n",
    "x = scaler.fit_transform(x)\n",
    "\n",
    "# Split data into training, validation and testing sets\n",
    "x_train, x_val, y_train, y_val = train_test_split(x, y, test_size=0.1, random_state=42)\n",
    "x_train, x_test, y_train, y_test = train_test_split(x_train, y_train, test_size=0.1111, random_state=42)\n",
    "\n",
    "print(\"The training set size is\", len(x_train), \" (~\", round(len(x_train)/len(data)*100, 0), \"% of total dataset)\")\n",
    "print(\"The validation set size is\", len(x_val), \" (~\", round(len(x_val)/len(data)*100, 0), \"% of total dataset)\")\n",
    "print(\"The testing set size is\", len(x_test), \" (~\", round(len(x_test)/len(data)*100, 0), \"% of total dataset)\")"
   ]
  },
  {
   "cell_type": "code",
   "execution_count": 83,
   "id": "4ea6bc0e",
   "metadata": {},
   "outputs": [
    {
     "name": "stdout",
     "output_type": "stream",
     "text": [
      "Validation Accuracy: 0.3171428571428571\n",
      "Test Accuracy: 0.3514285714285714\n"
     ]
    }
   ],
   "source": [
    "# Train the SVM model\n",
    "svm_model = SVC(kernel='rbf', C=100, gamma='scale')\n",
    "svm_model.fit(x_train, y_train)\n",
    "\n",
    "# Evaluate the model on validation set\n",
    "y_val_pred = svm_model.predict(x_val)\n",
    "val_accuracy = accuracy_score(y_val, y_val_pred)\n",
    "print(f\"Validation Accuracy: {val_accuracy}\")\n",
    "\n",
    "y_test_pred = svm_model.predict(x_test)\n",
    "test_accuracy = accuracy_score(y_test, y_test_pred)\n",
    "print(f\"Test Accuracy: {test_accuracy}\")"
   ]
  }
 ],
 "metadata": {
  "kernelspec": {
   "display_name": "Python 3 (ipykernel)",
   "language": "python",
   "name": "python3"
  },
  "language_info": {
   "codemirror_mode": {
    "name": "ipython",
    "version": 3
   },
   "file_extension": ".py",
   "mimetype": "text/x-python",
   "name": "python",
   "nbconvert_exporter": "python",
   "pygments_lexer": "ipython3",
   "version": "3.9.13"
  }
 },
 "nbformat": 4,
 "nbformat_minor": 5
}
